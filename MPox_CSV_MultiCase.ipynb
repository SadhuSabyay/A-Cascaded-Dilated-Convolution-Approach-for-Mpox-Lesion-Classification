{
  "cells": [
    {
      "cell_type": "markdown",
      "metadata": {
        "id": "view-in-github",
        "colab_type": "text"
      },
      "source": [
        "<a href=\"https://colab.research.google.com/github/SadhuSabyay/A-Cascaded-Dilated-Convolution-Approach-for-Mpox-Lesion-Classification/blob/main/MPox_CSV_MultiCase.ipynb\" target=\"_parent\"><img src=\"https://colab.research.google.com/assets/colab-badge.svg\" alt=\"Open In Colab\"/></a>"
      ]
    },
    {
      "cell_type": "code",
      "execution_count": 9,
      "id": "e8be971f",
      "metadata": {
        "id": "e8be971f"
      },
      "outputs": [],
      "source": [
        "import numpy as np\n",
        "import matplotlib.pyplot as plt\n",
        "import pandas as pd\n",
        "from xgboost import XGBClassifier\n",
        "from mlxtend.plotting import plot_confusion_matrix\n",
        "from sklearn.metrics import confusion_matrix, accuracy_score, f1_score, precision_score, recall_score, RocCurveDisplay"
      ]
    },
    {
      "cell_type": "code",
      "source": [
        "from google.colab import drive\n",
        "drive.mount('/content/drive')\n"
      ],
      "metadata": {
        "id": "Fc50emzmh1ek",
        "outputId": "75f7a4ee-4563-4800-854c-f0f4c9ead5bf",
        "colab": {
          "base_uri": "https://localhost:8080/"
        }
      },
      "id": "Fc50emzmh1ek",
      "execution_count": 10,
      "outputs": [
        {
          "output_type": "stream",
          "name": "stdout",
          "text": [
            "Drive already mounted at /content/drive; to attempt to forcibly remount, call drive.mount(\"/content/drive\", force_remount=True).\n"
          ]
        }
      ]
    },
    {
      "cell_type": "code",
      "execution_count": 11,
      "id": "705cf034",
      "metadata": {
        "id": "705cf034"
      },
      "outputs": [],
      "source": [
        "dataset = pd.read_csv('/content/drive/MyDrive/MonkeyPoxDetection/Data.csv')\n",
        "X = dataset.iloc[:, 1:-1].values\n",
        "y = dataset.iloc[:, -1].values\n",
        "\n",
        "from sklearn.model_selection import train_test_split\n",
        "X_train, X_test, y_train, y_test = train_test_split(X, y, test_size = 0.2, random_state=44)"
      ]
    },
    {
      "cell_type": "markdown",
      "id": "8a560339",
      "metadata": {
        "id": "8a560339"
      },
      "source": [
        "# XGBoost Normal"
      ]
    },
    {
      "cell_type": "code",
      "execution_count": 12,
      "id": "f74847c6",
      "metadata": {
        "colab": {
          "base_uri": "https://localhost:8080/",
          "height": 524
        },
        "id": "f74847c6",
        "outputId": "f653a4ae-8e99-4859-b0ae-9f0d102c3505"
      },
      "outputs": [
        {
          "output_type": "stream",
          "name": "stdout",
          "text": [
            "accuracy:    1.0 f1-score:    1.0 precision:   1.0 recall:      1.0 sensitivity: 1.0 specificity: 1.0 \n",
            "\n",
            "\n"
          ]
        },
        {
          "output_type": "display_data",
          "data": {
            "text/plain": [
              "<Figure size 640x480 with 1 Axes>"
            ],
            "image/png": "[encoded data removed]"
          },
          "metadata": {}
        }
      ],
      "source": [
        "X_train, X_test, y_train, y_test = train_test_split(X, y, test_size = 0.2, random_state=935)\n",
        "classifier = XGBClassifier(learning_rate=0.0991, gamma=0, n_estimators = 80)\n",
        "classifier.fit(X_train, y_train)\n",
        "y_pred = classifier.predict(X_test)\n",
        "cm = confusion_matrix(y_test, y_pred)\n",
        "\n",
        "# plot_confusion_matrix(classifier, X_test, y_test)\n",
        "\n",
        "fig, ax = plot_confusion_matrix(cm)\n",
        "ax.set_title('XGBoost')\n",
        "plt.savefig('XGBoost_cm.svg', bbox_inches='tight')\n",
        "\n",
        "sensitivity = cm[0,0]/(cm[0,0]+cm[0,1])\n",
        "specificity = cm[1,1]/(cm[1,0]+cm[1,1])\n",
        "\n",
        "print('accuracy:   ', accuracy_score(y_test, y_pred)\n",
        "         , 'f1-score:   ', f1_score(y_test, y_pred, average='weighted')\n",
        "         , 'precision:  ', precision_score(y_test, y_pred, average='weighted',  zero_division=0)\n",
        "         , 'recall:     ', recall_score(y_test, y_pred, average='weighted')\n",
        "         , 'sensitivity:', sensitivity\n",
        "         , 'specificity:', specificity, '\\n\\n')"
      ]
    },
    {
      "cell_type": "markdown",
      "id": "543fd71e",
      "metadata": {
        "id": "543fd71e"
      },
      "source": [
        "# K-Fold (XGBoost)"
      ]
    },
    {
      "cell_type": "code",
      "execution_count": 13,
      "id": "6e7d126e",
      "metadata": {
        "colab": {
          "base_uri": "https://localhost:8080/"
        },
        "id": "6e7d126e",
        "outputId": "9d5d5bd9-a8b3-4c41-c289-df130c66f4b8"
      },
      "outputs": [
        {
          "output_type": "stream",
          "name": "stdout",
          "text": [
            "[[ 0  4]\n",
            " [ 0 39]]\n",
            "Fold  1 :\n",
            "        accuracy:    0.9069767441860465 \n",
            "        f1-score:    0.862733976176971 \n",
            "        precision:   0.8226068144943213 \n",
            "        recall:      0.9069767441860465 \n",
            "        sensitivity: 0.0 \n",
            "        specificity: 1.0 \n",
            "\n",
            "\n",
            "[[ 0  5]\n",
            " [ 0 37]]\n",
            "Fold  2 :\n",
            "        accuracy:    0.8809523809523809 \n",
            "        f1-score:    0.8251959011452682 \n",
            "        precision:   0.7760770975056689 \n",
            "        recall:      0.8809523809523809 \n",
            "        sensitivity: 0.0 \n",
            "        specificity: 1.0 \n",
            "\n",
            "\n",
            "[[ 1  3]\n",
            " [ 0 38]]\n",
            "Fold  3 :\n",
            "        accuracy:    0.9285714285714286 \n",
            "        f1-score:    0.9084990958408681 \n",
            "        precision:   0.9337979094076655 \n",
            "        recall:      0.9285714285714286 \n",
            "        sensitivity: 0.25 \n",
            "        specificity: 1.0 \n",
            "\n",
            "\n",
            "[[ 0  5]\n",
            " [ 0 37]]\n",
            "Fold  4 :\n",
            "        accuracy:    0.8809523809523809 \n",
            "        f1-score:    0.8251959011452682 \n",
            "        precision:   0.7760770975056689 \n",
            "        recall:      0.8809523809523809 \n",
            "        sensitivity: 0.0 \n",
            "        specificity: 1.0 \n",
            "\n",
            "\n",
            "[[ 0  7]\n",
            " [ 0 35]]\n",
            "Fold  5 :\n",
            "        accuracy:    0.8333333333333334 \n",
            "        f1-score:    0.7575757575757576 \n",
            "        precision:   0.6944444444444444 \n",
            "        recall:      0.8333333333333334 \n",
            "        sensitivity: 0.0 \n",
            "        specificity: 1.0 \n",
            "\n",
            "\n",
            "Averages: \n",
            "        accuracy average:    0.886157253599114 \n",
            "        f1-score average:    0.8358401263768266 \n",
            "        precision average:   0.8006006726715538 \n",
            "        recall average:      0.886157253599114 \n",
            "        sensitivity average: 0.05 \n",
            "        specificity average: 1.0 \n",
            "\n",
            "\n"
          ]
        }
      ],
      "source": [
        "from sklearn.model_selection import KFold\n",
        "k=5\n",
        "kf = KFold(n_splits=k, random_state=722, shuffle=True)\n",
        "kf.get_n_splits(X)\n",
        "i=1\n",
        "accuracy_av = f1_score_av = precision_av = recall_av = sensitivity_av = specificity_av = 0\n",
        "\n",
        "\n",
        "for train_index, test_index in kf.split(X):\n",
        "    X_train, X_test = X[train_index], X[test_index]\n",
        "    y_train, y_test = y[train_index], y[test_index]\n",
        "\n",
        "    classifier = XGBClassifier(learning_rate=0.0991, gamma=0, n_estimators = 80, eta = 0.255)\n",
        "    classifier.fit(X_train, y_train)\n",
        "    y_pred = classifier.predict(X_test)\n",
        "    cm = confusion_matrix(y_test, y_pred)\n",
        "    print(cm)\n",
        "\n",
        "    sensitivity = cm[0,0]/(cm[0,0]+cm[0,1])\n",
        "    specificity = cm[1,1]/(cm[1,0]+cm[1,1])\n",
        "\n",
        "    print('Fold ', i, ':\\n        accuracy:   ', accuracy_score(y_test, y_pred)\n",
        "         , '\\n        f1-score:   ', f1_score(y_test, y_pred, average='weighted')\n",
        "         , '\\n        precision:  ', precision_score(y_test, y_pred, average='weighted',  zero_division=0)\n",
        "         , '\\n        recall:     ', recall_score(y_test, y_pred, average='weighted')\n",
        "         , '\\n        sensitivity:', sensitivity\n",
        "         , '\\n        specificity:', specificity, '\\n\\n')\n",
        "\n",
        "    accuracy_av+=accuracy_score(y_test, y_pred) / k\n",
        "    f1_score_av+=f1_score(y_test, y_pred, average='weighted') / k\n",
        "    precision_av+=precision_score(y_test, y_pred, average='weighted',  zero_division=0) / k\n",
        "    recall_av+=recall_score(y_test, y_pred, average='weighted') / k\n",
        "    sensitivity_av+=sensitivity / k\n",
        "    specificity_av+=specificity / k\n",
        "\n",
        "    i+=1\n",
        "\n",
        "print('Averages:', '\\n        accuracy average:   ', accuracy_av\n",
        "    , '\\n        f1-score average:   ', f1_score_av\n",
        "    , '\\n        precision average:  ', precision_av\n",
        "    , '\\n        recall average:     ', recall_av\n",
        "    , '\\n        sensitivity average:', sensitivity_av\n",
        "    , '\\n        specificity average:', specificity_av, '\\n\\n')\n",
        ""
      ]
    },
    {
      "cell_type": "markdown",
      "id": "7c5e5e0d",
      "metadata": {
        "id": "7c5e5e0d"
      },
      "source": [
        "# SVM"
      ]
    },
    {
      "cell_type": "code",
      "execution_count": 14,
      "id": "b376f124",
      "metadata": {
        "colab": {
          "base_uri": "https://localhost:8080/",
          "height": 628
        },
        "id": "b376f124",
        "outputId": "60c61a58-40ec-4935-bf44-a0ca09289610"
      },
      "outputs": [
        {
          "output_type": "stream",
          "name": "stdout",
          "text": [
            "\n",
            "accuracy:    0.8333333333333334 \n",
            "f1-score:    0.7575757575757576 \n",
            "precision:   0.6944444444444444 \n",
            "recall:      0.8333333333333334 \n",
            "sensitivity: 0.0 \n",
            "specificity: 1.0 \n",
            "\n",
            "\n"
          ]
        },
        {
          "output_type": "display_data",
          "data": {
            "text/plain": [
              "<Figure size 640x480 with 1 Axes>"
            ],
            "image/png": "[encoded data removed]"
          },
          "metadata": {}
        }
      ],
      "source": [
        "from sklearn.svm import SVC\n",
        "classifier = SVC(kernel = 'poly', random_state = 0, degree=3, gamma='scale')\n",
        "classifier.fit(X_train, y_train)\n",
        "\n",
        "y_pred = classifier.predict(X_test)\n",
        "cm = confusion_matrix(y_test, y_pred)\n",
        "# print(cm)\n",
        "# plot_confusion_matrix(classifier, X_test, y_test)\n",
        "\n",
        "fig, ax = plot_confusion_matrix(cm)\n",
        "ax.set_title('SVM')\n",
        "plt.savefig('SVM_cm.svg', bbox_inches='tight')\n",
        "\n",
        "sensitivity = cm[0,0]/(cm[0,0]+cm[0,1])\n",
        "specificity = cm[1,1]/(cm[1,0]+cm[1,1])\n",
        "\n",
        "print('\\naccuracy:   ', accuracy_score(y_test, y_pred)\n",
        "         , '\\nf1-score:   ', f1_score(y_test, y_pred, average='weighted')\n",
        "         , '\\nprecision:  ', precision_score(y_test, y_pred, average='weighted',  zero_division=0)\n",
        "         , '\\nrecall:     ', recall_score(y_test, y_pred, average='weighted')\n",
        "         , '\\nsensitivity:', sensitivity\n",
        "         , '\\nspecificity:', specificity, '\\n\\n')"
      ]
    },
    {
      "cell_type": "markdown",
      "id": "c151346b",
      "metadata": {
        "id": "c151346b"
      },
      "source": [
        "# Random forest"
      ]
    },
    {
      "cell_type": "code",
      "execution_count": 15,
      "id": "cf50deb9",
      "metadata": {
        "colab": {
          "base_uri": "https://localhost:8080/",
          "height": 628
        },
        "id": "cf50deb9",
        "outputId": "88ed4233-2e36-4c63-aaf5-9269e9c93988"
      },
      "outputs": [
        {
          "output_type": "stream",
          "name": "stdout",
          "text": [
            "\n",
            "accuracy:    0.8571428571428571 \n",
            "f1-score:    0.8092105263157895 \n",
            "precision:   0.8780487804878048 \n",
            "recall:      0.8571428571428571 \n",
            "sensitivity: 0.14285714285714285 \n",
            "specificity: 1.0 \n",
            "\n",
            "\n"
          ]
        },
        {
          "output_type": "display_data",
          "data": {
            "text/plain": [
              "<Figure size 640x480 with 1 Axes>"
            ],
            "image/png": "[encoded data removed]"
          },
          "metadata": {}
        }
      ],
      "source": [
        "from sklearn.ensemble import RandomForestClassifier\n",
        "classifier = RandomForestClassifier(n_estimators = 10, criterion = 'entropy', random_state = 120)\n",
        "classifier.fit(X_train, y_train)\n",
        "\n",
        "y_pred = classifier.predict(X_test)\n",
        "cm = confusion_matrix(y_test, y_pred)\n",
        "# print(cm)\n",
        "# plot_confusion_matrix(classifier, X_test, y_test)\n",
        "\n",
        "fig, ax = plot_confusion_matrix(cm)\n",
        "ax.set_title('Random forest')\n",
        "plt.savefig('RF_cm.svg', bbox_inches='tight')\n",
        "\n",
        "sensitivity = cm[0,0]/(cm[0,0]+cm[0,1])\n",
        "specificity = cm[1,1]/(cm[1,0]+cm[1,1])\n",
        "\n",
        "print('\\naccuracy:   ', accuracy_score(y_test, y_pred)\n",
        "         , '\\nf1-score:   ', f1_score(y_test, y_pred, average='weighted')\n",
        "         , '\\nprecision:  ', precision_score(y_test, y_pred, average='weighted',  zero_division=0)\n",
        "         , '\\nrecall:     ', recall_score(y_test, y_pred, average='weighted')\n",
        "         , '\\nsensitivity:', sensitivity\n",
        "         , '\\nspecificity:', specificity, '\\n\\n')"
      ]
    },
    {
      "cell_type": "markdown",
      "id": "25315f45",
      "metadata": {
        "id": "25315f45"
      },
      "source": [
        "# K-Fold (Random Forest)"
      ]
    },
    {
      "cell_type": "code",
      "execution_count": 16,
      "id": "eb0e668a",
      "metadata": {
        "colab": {
          "base_uri": "https://localhost:8080/"
        },
        "id": "eb0e668a",
        "outputId": "6ef0b908-c0d9-45c5-d1d6-c50aca0ba66d"
      },
      "outputs": [
        {
          "output_type": "stream",
          "name": "stdout",
          "text": [
            "[[ 0  4]\n",
            " [ 5 34]]\n",
            "Fold  1 :\n",
            "        accuracy:    0.7906976744186046 \n",
            "        f1-score:    0.80096647538508 \n",
            "        precision:   0.8115055079559362 \n",
            "        recall:      0.7906976744186046 \n",
            "        sensitivity: 0.0 \n",
            "        specificity: 0.8717948717948718 \n",
            "\n",
            "\n",
            "[[ 0  5]\n",
            " [ 0 37]]\n",
            "Fold  2 :\n",
            "        accuracy:    0.8809523809523809 \n",
            "        f1-score:    0.8251959011452682 \n",
            "        precision:   0.7760770975056689 \n",
            "        recall:      0.8809523809523809 \n",
            "        sensitivity: 0.0 \n",
            "        specificity: 1.0 \n",
            "\n",
            "\n",
            "[[ 2  2]\n",
            " [ 1 37]]\n",
            "Fold  3 :\n",
            "        accuracy:    0.9285714285714286 \n",
            "        f1-score:    0.9239332096474953 \n",
            "        precision:   0.9218559218559218 \n",
            "        recall:      0.9285714285714286 \n",
            "        sensitivity: 0.5 \n",
            "        specificity: 0.9736842105263158 \n",
            "\n",
            "\n",
            "[[ 2  3]\n",
            " [ 0 37]]\n",
            "Fold  4 :\n",
            "        accuracy:    0.9285714285714286 \n",
            "        f1-score:    0.9146567717996289 \n",
            "        precision:   0.9339285714285714 \n",
            "        recall:      0.9285714285714286 \n",
            "        sensitivity: 0.4 \n",
            "        specificity: 1.0 \n",
            "\n",
            "\n",
            "[[ 1  6]\n",
            " [ 0 35]]\n",
            "Fold  5 :\n",
            "        accuracy:    0.8571428571428571 \n",
            "        f1-score:    0.8092105263157895 \n",
            "        precision:   0.8780487804878048 \n",
            "        recall:      0.8571428571428571 \n",
            "        sensitivity: 0.14285714285714285 \n",
            "        specificity: 1.0 \n",
            "\n",
            "\n",
            "Averages: \n",
            "        accuracy average:    0.8771871539313401 \n",
            "        f1-score average:    0.8547925768586525 \n",
            "        precision average:   0.8642831758467806 \n",
            "        recall average:      0.8771871539313401 \n",
            "        sensitivity average: 0.20857142857142857 \n",
            "        specificity average: 0.9690958164642374 \n",
            "\n",
            "\n"
          ]
        }
      ],
      "source": [
        "from sklearn.model_selection import KFold\n",
        "k=5\n",
        "kf = KFold(n_splits=k, random_state=722, shuffle=True)\n",
        "kf.get_n_splits(X)\n",
        "i=1\n",
        "accuracy_av = f1_score_av = precision_av = recall_av = sensitivity_av = specificity_av = 0\n",
        "\n",
        "\n",
        "for train_index, test_index in kf.split(X):\n",
        "    X_train, X_test = X[train_index], X[test_index]\n",
        "    y_train, y_test = y[train_index], y[test_index]\n",
        "\n",
        "    classifier = RandomForestClassifier(n_estimators = 10, criterion = 'entropy', random_state = 120)\n",
        "    classifier.fit(X_train, y_train)\n",
        "    y_pred = classifier.predict(X_test)\n",
        "    cm = confusion_matrix(y_test, y_pred)\n",
        "    print(cm)\n",
        "\n",
        "    sensitivity = cm[0,0]/(cm[0,0]+cm[0,1])\n",
        "    specificity = cm[1,1]/(cm[1,0]+cm[1,1])\n",
        "\n",
        "    print('Fold ', i, ':\\n        accuracy:   ', accuracy_score(y_test, y_pred)\n",
        "         , '\\n        f1-score:   ', f1_score(y_test, y_pred, average='weighted')\n",
        "         , '\\n        precision:  ', precision_score(y_test, y_pred, average='weighted',  zero_division=0)\n",
        "         , '\\n        recall:     ', recall_score(y_test, y_pred, average='weighted')\n",
        "         , '\\n        sensitivity:', sensitivity\n",
        "         , '\\n        specificity:', specificity, '\\n\\n')\n",
        "\n",
        "    accuracy_av+=accuracy_score(y_test, y_pred) / k\n",
        "    f1_score_av+=f1_score(y_test, y_pred, average='weighted') / k\n",
        "    precision_av+=precision_score(y_test, y_pred, average='weighted',  zero_division=0) / k\n",
        "    recall_av+=recall_score(y_test, y_pred, average='weighted') / k\n",
        "    sensitivity_av+=sensitivity / k\n",
        "    specificity_av+=specificity / k\n",
        "\n",
        "    i+=1\n",
        "\n",
        "print('Averages:', '\\n        accuracy average:   ', accuracy_av\n",
        "    , '\\n        f1-score average:   ', f1_score_av\n",
        "    , '\\n        precision average:  ', precision_av\n",
        "    , '\\n        recall average:     ', recall_av\n",
        "    , '\\n        sensitivity average:', sensitivity_av\n",
        "    , '\\n        specificity average:', specificity_av, '\\n\\n')\n",
        ""
      ]
    },
    {
      "cell_type": "code",
      "source": [
        "!pip install catboost\n"
      ],
      "metadata": {
        "id": "VQuKaiYVjZ1Y",
        "outputId": "26cd270c-bbaf-4352-e611-8be7bf16c8d2",
        "colab": {
          "base_uri": "https://localhost:8080/"
        }
      },
      "id": "VQuKaiYVjZ1Y",
      "execution_count": 19,
      "outputs": [
        {
          "output_type": "stream",
          "name": "stdout",
          "text": [
            "Collecting catboost\n",
            "  Downloading catboost-1.2.8-cp311-cp311-manylinux2014_x86_64.whl.metadata (1.2 kB)\n",
            "Requirement already satisfied: graphviz in /usr/local/lib/python3.11/dist-packages (from catboost) (0.20.3)\n",
            "Requirement already satisfied: matplotlib in /usr/local/lib/python3.11/dist-packages (from catboost) (3.10.0)\n",
            "Requirement already satisfied: numpy<3.0,>=1.16.0 in /usr/local/lib/python3.11/dist-packages (from catboost) (2.0.2)\n",
            "Requirement already satisfied: pandas>=0.24 in /usr/local/lib/python3.11/dist-packages (from catboost) (2.2.2)\n",
            "Requirement already satisfied: scipy in /usr/local/lib/python3.11/dist-packages (from catboost) (1.15.3)\n",
            "Requirement already satisfied: plotly in /usr/local/lib/python3.11/dist-packages (from catboost) (5.24.1)\n",
            "Requirement already satisfied: six in /usr/local/lib/python3.11/dist-packages (from catboost) (1.17.0)\n",
            "Requirement already satisfied: python-dateutil>=2.8.2 in /usr/local/lib/python3.11/dist-packages (from pandas>=0.24->catboost) (2.9.0.post0)\n",
            "Requirement already satisfied: pytz>=2020.1 in /usr/local/lib/python3.11/dist-packages (from pandas>=0.24->catboost) (2025.2)\n",
            "Requirement already satisfied: tzdata>=2022.7 in /usr/local/lib/python3.11/dist-packages (from pandas>=0.24->catboost) (2025.2)\n",
            "Requirement already satisfied: contourpy>=1.0.1 in /usr/local/lib/python3.11/dist-packages (from matplotlib->catboost) (1.3.2)\n",
            "Requirement already satisfied: cycler>=0.10 in /usr/local/lib/python3.11/dist-packages (from matplotlib->catboost) (0.12.1)\n",
            "Requirement already satisfied: fonttools>=4.22.0 in /usr/local/lib/python3.11/dist-packages (from matplotlib->catboost) (4.58.1)\n",
            "Requirement already satisfied: kiwisolver>=1.3.1 in /usr/local/lib/python3.11/dist-packages (from matplotlib->catboost) (1.4.8)\n",
            "Requirement already satisfied: packaging>=20.0 in /usr/local/lib/python3.11/dist-packages (from matplotlib->catboost) (24.2)\n",
            "Requirement already satisfied: pillow>=8 in /usr/local/lib/python3.11/dist-packages (from matplotlib->catboost) (11.2.1)\n",
            "Requirement already satisfied: pyparsing>=2.3.1 in /usr/local/lib/python3.11/dist-packages (from matplotlib->catboost) (3.2.3)\n",
            "Requirement already satisfied: tenacity>=6.2.0 in /usr/local/lib/python3.11/dist-packages (from plotly->catboost) (9.1.2)\n",
            "Downloading catboost-1.2.8-cp311-cp311-manylinux2014_x86_64.whl (99.2 MB)\n",
            "\u001b[2K   \u001b[90m━━━━━━━━━━━━━━━━━━━━━━━━━━━━━━━━━━━━━━━━\u001b[0m \u001b[32m99.2/99.2 MB\u001b[0m \u001b[31m8.1 MB/s\u001b[0m eta \u001b[36m0:00:00\u001b[0m\n",
            "\u001b[?25hInstalling collected packages: catboost\n",
            "Successfully installed catboost-1.2.8\n"
          ]
        }
      ]
    },
    {
      "cell_type": "markdown",
      "id": "e1b3c204",
      "metadata": {
        "id": "e1b3c204"
      },
      "source": [
        "# CatBoost"
      ]
    },
    {
      "cell_type": "code",
      "execution_count": 20,
      "id": "cbcbdb0c",
      "metadata": {
        "colab": {
          "base_uri": "https://localhost:8080/",
          "height": 975
        },
        "id": "cbcbdb0c",
        "outputId": "42cbb4f4-bde5-4561-824c-b42731538d69"
      },
      "outputs": [
        {
          "output_type": "stream",
          "name": "stdout",
          "text": [
            "0:\tlearn: 0.4184558\ttotal: 47.1ms\tremaining: 895ms\n",
            "1:\tlearn: 0.3426976\ttotal: 48ms\tremaining: 432ms\n",
            "2:\tlearn: 0.3038759\ttotal: 48.5ms\tremaining: 275ms\n",
            "3:\tlearn: 0.2847097\ttotal: 49ms\tremaining: 196ms\n",
            "4:\tlearn: 0.2743148\ttotal: 49.5ms\tremaining: 148ms\n",
            "5:\tlearn: 0.2627026\ttotal: 49.9ms\tremaining: 117ms\n",
            "6:\tlearn: 0.2529648\ttotal: 50.6ms\tremaining: 93.9ms\n",
            "7:\tlearn: 0.2458434\ttotal: 51.1ms\tremaining: 76.6ms\n",
            "8:\tlearn: 0.2167139\ttotal: 51.6ms\tremaining: 63.1ms\n",
            "9:\tlearn: 0.2151508\ttotal: 52ms\tremaining: 52ms\n",
            "10:\tlearn: 0.2113861\ttotal: 52.5ms\tremaining: 42.9ms\n",
            "11:\tlearn: 0.2099718\ttotal: 52.9ms\tremaining: 35.3ms\n",
            "12:\tlearn: 0.2036945\ttotal: 53.4ms\tremaining: 28.8ms\n",
            "13:\tlearn: 0.2015841\ttotal: 53.8ms\tremaining: 23.1ms\n",
            "14:\tlearn: 0.1978620\ttotal: 54.3ms\tremaining: 18.1ms\n",
            "15:\tlearn: 0.1956975\ttotal: 54.8ms\tremaining: 13.7ms\n",
            "16:\tlearn: 0.1794068\ttotal: 55.3ms\tremaining: 9.76ms\n",
            "17:\tlearn: 0.1781262\ttotal: 55.8ms\tremaining: 6.2ms\n",
            "18:\tlearn: 0.1773457\ttotal: 56.3ms\tremaining: 2.96ms\n",
            "19:\tlearn: 0.1703332\ttotal: 56.7ms\tremaining: 0us\n",
            "\n",
            "accuracy:    0.8333333333333334 \n",
            "f1-score:    0.7575757575757576 \n",
            "precision:   0.6944444444444444 \n",
            "recall:      0.8333333333333334 \n",
            "sensitivity: 0.0 \n",
            "specificity: 1.0 \n",
            "\n",
            "\n"
          ]
        },
        {
          "output_type": "display_data",
          "data": {
            "text/plain": [
              "<Figure size 640x480 with 1 Axes>"
            ],
            "image/png": "[encoded data removed]"
          },
          "metadata": {}
        }
      ],
      "source": [
        "from catboost import CatBoostClassifier\n",
        "classifier = CatBoostClassifier(iterations=20, learning_rate=0.44, max_depth=5)\n",
        "classifier.fit(X_train, y_train)\n",
        "\n",
        "y_pred = classifier.predict(X_test)\n",
        "cm = confusion_matrix(y_test, y_pred)\n",
        "# print(cm)\n",
        "# plot_confusion_matrix(classifier, X_test, y_test)\n",
        "\n",
        "fig, ax = plot_confusion_matrix(cm)\n",
        "ax.set_title('CatBoost')\n",
        "plt.savefig('CatBoost_cm.svg', bbox_inches='tight')\n",
        "\n",
        "sensitivity = cm[0,0]/(cm[0,0]+cm[0,1])\n",
        "specificity = cm[1,1]/(cm[1,0]+cm[1,1])\n",
        "\n",
        "print('\\naccuracy:   ', accuracy_score(y_test, y_pred)\n",
        "         , '\\nf1-score:   ', f1_score(y_test, y_pred, average='weighted')\n",
        "         , '\\nprecision:  ', precision_score(y_test, y_pred, average='weighted',  zero_division=0)\n",
        "         , '\\nrecall:     ', recall_score(y_test, y_pred, average='weighted')\n",
        "         , '\\nsensitivity:', sensitivity\n",
        "         , '\\nspecificity:', specificity, '\\n\\n')"
      ]
    },
    {
      "cell_type": "markdown",
      "id": "1ee6551b",
      "metadata": {
        "id": "1ee6551b"
      },
      "source": [
        "# LightGBM"
      ]
    },
    {
      "cell_type": "code",
      "execution_count": 21,
      "id": "05c690a1",
      "metadata": {
        "colab": {
          "base_uri": "https://localhost:8080/",
          "height": 1000
        },
        "id": "05c690a1",
        "outputId": "3dbf228e-8241-48d2-d99e-696aa15c1d9e"
      },
      "outputs": [
        {
          "output_type": "stream",
          "name": "stderr",
          "text": [
            "/usr/local/lib/python3.11/dist-packages/sklearn/utils/deprecation.py:151: FutureWarning: 'force_all_finite' was renamed to 'ensure_all_finite' in 1.6 and will be removed in 1.8.\n",
            "  warnings.warn(\n",
            "/usr/local/lib/python3.11/dist-packages/sklearn/utils/deprecation.py:151: FutureWarning: 'force_all_finite' was renamed to 'ensure_all_finite' in 1.6 and will be removed in 1.8.\n",
            "  warnings.warn(\n"
          ]
        },
        {
          "output_type": "stream",
          "name": "stdout",
          "text": [
            "[LightGBM] [Warning] bagging_fraction is set=1, subsample=1.0 will be ignored. Current value: bagging_fraction=1\n",
            "[LightGBM] [Warning] bagging_fraction is set=1, subsample=1.0 will be ignored. Current value: bagging_fraction=1\n",
            "[LightGBM] [Info] Number of positive: 151, number of negative: 18\n",
            "[LightGBM] [Info] Auto-choosing col-wise multi-threading, the overhead of testing was 0.000440 seconds.\n",
            "You can set `force_col_wise=true` to remove the overhead.\n",
            "[LightGBM] [Info] Total Bins 8\n",
            "[LightGBM] [Info] Number of data points in the train set: 169, number of used features: 4\n",
            "[LightGBM] [Info] [binary:BoostFromScore]: pavg=0.893491 -> initscore=2.126908\n",
            "[LightGBM] [Info] Start training from score 2.126908\n",
            "[LightGBM] [Warning] No further splits with positive gain, best gain: -inf\n",
            "[LightGBM] [Warning] No further splits with positive gain, best gain: -inf\n",
            "[LightGBM] [Warning] No further splits with positive gain, best gain: -inf\n",
            "[LightGBM] [Warning] No further splits with positive gain, best gain: -inf\n",
            "[LightGBM] [Warning] No further splits with positive gain, best gain: -inf\n",
            "[LightGBM] [Warning] No further splits with positive gain, best gain: -inf\n",
            "[LightGBM] [Warning] No further splits with positive gain, best gain: -inf\n",
            "[LightGBM] [Warning] No further splits with positive gain, best gain: -inf\n",
            "[LightGBM] [Warning] No further splits with positive gain, best gain: -inf\n",
            "[LightGBM] [Warning] No further splits with positive gain, best gain: -inf\n",
            "[LightGBM] [Warning] No further splits with positive gain, best gain: -inf\n",
            "[LightGBM] [Warning] No further splits with positive gain, best gain: -inf\n",
            "[LightGBM] [Warning] No further splits with positive gain, best gain: -inf\n",
            "[LightGBM] [Warning] No further splits with positive gain, best gain: -inf\n",
            "[LightGBM] [Warning] No further splits with positive gain, best gain: -inf\n",
            "[LightGBM] [Warning] No further splits with positive gain, best gain: -inf\n",
            "[LightGBM] [Warning] No further splits with positive gain, best gain: -inf\n",
            "[LightGBM] [Warning] No further splits with positive gain, best gain: -inf\n",
            "[LightGBM] [Warning] No further splits with positive gain, best gain: -inf\n",
            "[LightGBM] [Warning] No further splits with positive gain, best gain: -inf\n",
            "[LightGBM] [Warning] bagging_fraction is set=1, subsample=1.0 will be ignored. Current value: bagging_fraction=1\n",
            "\n",
            "accuracy:    0.8333333333333334 \n",
            "f1-score:    0.7575757575757576 \n",
            "precision:   0.6944444444444444 \n",
            "recall:      0.8333333333333334 \n",
            "sensitivity: 0.0 \n",
            "specificity: 1.0 \n",
            "\n",
            "\n"
          ]
        },
        {
          "output_type": "display_data",
          "data": {
            "text/plain": [
              "<Figure size 640x480 with 1 Axes>"
            ],
            "image/png": "[encoded data removed]"
          },
          "metadata": {}
        }
      ],
      "source": [
        "from lightgbm import LGBMClassifier\n",
        "classifier = LGBMClassifier(n_estimators = 20, num_threads = 8, bagging_fraction = 1, max_depth = 6)\n",
        "classifier.fit(X_train, y_train)\n",
        "\n",
        "y_pred = classifier.predict(X_test)\n",
        "cm = confusion_matrix(y_test, y_pred)\n",
        "# print(cm)\n",
        "# plot_confusion_matrix(classifier, X_test, y_test)\n",
        "\n",
        "fig, ax = plot_confusion_matrix(cm)\n",
        "ax.set_title('LightGBM')\n",
        "plt.savefig('LightGBM_cm.svg', bbox_inches='tight')\n",
        "\n",
        "sensitivity = cm[0,0]/(cm[0,0]+cm[0,1])\n",
        "specificity = cm[1,1]/(cm[1,0]+cm[1,1])\n",
        "\n",
        "print('\\naccuracy:   ', accuracy_score(y_test, y_pred)\n",
        "         , '\\nf1-score:   ', f1_score(y_test, y_pred, average='weighted')\n",
        "         , '\\nprecision:  ', precision_score(y_test, y_pred, average='weighted',  zero_division=0)\n",
        "         , '\\nrecall:     ', recall_score(y_test, y_pred, average='weighted')\n",
        "         , '\\nsensitivity:', sensitivity\n",
        "         , '\\nspecificity:', specificity, '\\n\\n')"
      ]
    }
  ],
  "metadata": {
    "kernelspec": {
      "display_name": "Python 3 (ipykernel)",
      "language": "python",
      "name": "python3"
    },
    "language_info": {
      "codemirror_mode": {
        "name": "ipython",
        "version": 3
      },
      "file_extension": ".py",
      "mimetype": "text/x-python",
      "name": "python",
      "nbconvert_exporter": "python",
      "pygments_lexer": "ipython3",
      "version": "3.11.3"
    },
    "colab": {
      "provenance": [],
      "include_colab_link": true
    }
  },
  "nbformat": 4,
  "nbformat_minor": 5
}